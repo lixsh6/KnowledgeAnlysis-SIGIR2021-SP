{
 "cells": [
  {
   "cell_type": "code",
   "execution_count": 2,
   "metadata": {},
   "outputs": [
    {
     "name": "stdout",
     "output_type": "stream",
     "text": [
      "loaded\n"
     ]
    },
    {
     "data": {
      "text/plain": [
       "\"\\nsession_data = [{\\n'sid':\\n'qids':[q1,q2,...],\\n'docs':[[(d1,c1),(d2,c2),...],[]]\\n},]\\n\""
      ]
     },
     "execution_count": 2,
     "metadata": {},
     "output_type": "execute_result"
    }
   ],
   "source": [
    "import os,tqdm\n",
    "import cPickle,json\n",
    "import numpy as np\n",
    "#prefix = '/ivi/ilps/personal/xli/knowledge_intent/data/'\n",
    "prefix = '/deeperpool/lixs/knowledge_intent/data/'\n",
    "session_data = json.load(open(prefix + 'session.json'))\n",
    "qdid2text_dict = json.load(open(prefix + 'qdid2text_dict.json'))\n",
    "(qid2eid,did2eid) = cPickle.load(open(prefix + 'qdid2eid-xlore.pkl'))\n",
    "\n",
    "print 'loaded'\n",
    "'''\n",
    "session_data = [{\n",
    "'sid':\n",
    "'qids':[q1,q2,...],\n",
    "'docs':[[(d1,c1),(d2,c2),...],[]]\n",
    "},]\n",
    "'''\n"
   ]
  },
  {
   "cell_type": "code",
   "execution_count": 5,
   "metadata": {},
   "outputs": [
    {
     "name": "stdout",
     "output_type": "stream",
     "text": [
      "89737\n",
      "231142\n"
     ]
    }
   ],
   "source": [
    "print len(session_data)\n",
    "qid_num = 0\n",
    "for session in session_data:\n",
    "    qid_num += len(session['qids'])\n",
    "print qid_num"
   ]
  },
  {
   "cell_type": "code",
   "execution_count": 7,
   "metadata": {},
   "outputs": [
    {
     "name": "stdout",
     "output_type": "stream",
     "text": [
      "('avg query per session: ', 2.5757714209300513)\n",
      "('avg_click_per_query: ', 1.255163492571666)\n",
      "('avg_doc_per_query: ', 9.58208806707565)\n"
     ]
    }
   ],
   "source": [
    "session_lengths = []\n",
    "avg_click_per_query = []\n",
    "avg_doc_per_query = []\n",
    "for session in session_data:\n",
    "    session_lengths.append(len(session['qids']))\n",
    "    for doc_list in session['docs']:\n",
    "        click_count = 0\n",
    "        for d,c in doc_list:\n",
    "            click_count += int(c)\n",
    "        avg_click_per_query.append(click_count)\n",
    "        avg_doc_per_query.append(len(doc_list))\n",
    "print('avg query per session: ', np.mean(session_lengths))\n",
    "print('avg_click_per_query: ', np.mean(avg_click_per_query))\n",
    "print('avg_doc_per_query: ', np.mean(avg_doc_per_query))"
   ]
  },
  {
   "cell_type": "code",
   "execution_count": 10,
   "metadata": {},
   "outputs": [
    {
     "name": "stdout",
     "output_type": "stream",
     "text": [
      "('avg ent in query: ', 2.278962715560132)\n",
      "('avg ent in doc: ', 4.030423198603229)\n",
      "{0: 0.058505161329399244, 1: 0.29412655423938533, 2: 0.24135379982867675, 3: 0.20691176852324544, 4: 0.11412032430280952, 5: 0.08498239177648372}\n",
      "{0: 0.009587673597393561, 1: 0.044101944037966016, 2: 0.11920320495136631, 3: 0.10612315295624075, 4: 0.17537473649135846, 5: 0.5456092879656749}\n"
     ]
    }
   ],
   "source": [
    "from collections import defaultdict\n",
    "qent_count,dent_count = defaultdict(lambda:0),defaultdict(lambda:0)\n",
    "qent_count_list, dent_count_list = [], []\n",
    "for session in session_data:\n",
    "    for qid in session['qids']:\n",
    "        qent_count[len(qid2eid[qid])] += 1\n",
    "        qent_count_list.append(len(qid2eid[qid]))\n",
    "    for doc_list in session['docs']:\n",
    "        for did,c in doc_list:\n",
    "            dent_count[len(did2eid[did])] += 1\n",
    "            dent_count_list.append(len(did2eid[did]))\n",
    "\n",
    "print('avg ent in query: ', np.mean(qent_count_list))\n",
    "print('avg ent in doc: ', np.mean(dent_count_list))\n",
    "        \n",
    "q_sum = sum(qent_count.values())\n",
    "d_sum = sum(dent_count.values())\n",
    "for q in qent_count:\n",
    "    qent_count[q] = float(qent_count[q])/q_sum\n",
    "for d in dent_count:\n",
    "    dent_count[d] = float(dent_count[d])/d_sum\n",
    "print dict(qent_count)  \n",
    "print dict(dent_count)"
   ]
  },
  {
   "cell_type": "code",
   "execution_count": null,
   "metadata": {
    "collapsed": true
   },
   "outputs": [],
   "source": []
  },
  {
   "cell_type": "code",
   "execution_count": 2,
   "metadata": {},
   "outputs": [
    {
     "name": "stdout",
     "output_type": "stream",
     "text": [
      "defaultdict(<function <lambda> at 0x7f9f1ef1e5f0>, {2: 56669, 3: 21806, 4: 7005, 5: 2518, 6: 953, 7: 432, 8: 199, 9: 108, 10: 47})\n"
     ]
    }
   ],
   "source": [
    "from collections import defaultdict\n",
    "session_data_length = defaultdict(lambda:0)\n",
    "for session in session_data:\n",
    "    session_data_length[len(session['qids'])] += 1\n",
    "print session_data_length"
   ]
  },
  {
   "cell_type": "code",
   "execution_count": null,
   "metadata": {
    "collapsed": true
   },
   "outputs": [],
   "source": []
  },
  {
   "cell_type": "code",
   "execution_count": 2,
   "metadata": {
    "collapsed": true
   },
   "outputs": [],
   "source": [
    "prefix_data_addr = '/ivi/ilps/personal/xli/knowledge_intent/entity/'\n",
    "(ent2id, id2ent) = cPickle.load(open(prefix_data_addr + 'raw-xlore.ent_dict.pkl'))"
   ]
  },
  {
   "cell_type": "code",
   "execution_count": 4,
   "metadata": {},
   "outputs": [
    {
     "name": "stderr",
     "output_type": "stream",
     "text": [
      "31784it [00:00, 264677.08it/s]"
     ]
    },
    {
     "name": "stdout",
     "output_type": "stream",
     "text": [
      "run\n"
     ]
    },
    {
     "name": "stderr",
     "output_type": "stream",
     "text": [
      "135814it [00:00, 430686.72it/s]\n"
     ]
    }
   ],
   "source": [
    "def loadNeigbor(step):\n",
    "    print 'run'\n",
    "    addr = '/ivi/ilps/personal/xli/knowledge_intent/data/neib_%d.txt' % step\n",
    "    neib_dict = {};\n",
    "    for line in tqdm.tqdm(open(addr)):\n",
    "        elements = line.strip().split('\\t')\n",
    "        neib_dict[(elements[0],elements[1])] = int(elements[2])\n",
    "    return neib_dict\n",
    "\n",
    "neib_dict1 = loadNeigbor(1)"
   ]
  },
  {
   "cell_type": "code",
   "execution_count": 40,
   "metadata": {},
   "outputs": [
    {
     "name": "stdout",
     "output_type": "stream",
     "text": [
      "bdc21630\n"
     ]
    }
   ],
   "source": [
    "eid = ent2id['lol']\n",
    "print eid"
   ]
  },
  {
   "cell_type": "code",
   "execution_count": 28,
   "metadata": {},
   "outputs": [
    {
     "name": "stdout",
     "output_type": "stream",
     "text": [
      "('bdc1373', 'bdi6434616')\n",
      "('bdc1373', 'bdc20819')\n",
      "('bdc1373', 'bdi6552377')\n",
      "('bdc1373', 'bdi6098368')\n",
      "('bdc1373', 'bdc20210')\n",
      "('bdc13494', 'bdc1373')\n"
     ]
    }
   ],
   "source": [
    "for k_p in neib_dict1:\n",
    "    if eid in k_p:\n",
    "        print k_p"
   ]
  },
  {
   "cell_type": "code",
   "execution_count": 41,
   "metadata": {},
   "outputs": [
    {
     "name": "stdout",
     "output_type": "stream",
     "text": [
      "bdc26762\n"
     ]
    }
   ],
   "source": [
    "eid2 = ent2id['腾讯游戏']#腾讯游戏\n",
    "print eid2"
   ]
  },
  {
   "cell_type": "code",
   "execution_count": 16,
   "metadata": {},
   "outputs": [
    {
     "name": "stdout",
     "output_type": "stream",
     "text": [
      "('bdc2780', 'bdc11522')\n",
      "('bdc2780', 'bdc15006')\n",
      "('bdc2780', 'bdi3789493')\n",
      "('bdi487324', 'bdc2780')\n",
      "('bdc2780', 'bdc30125')\n",
      "('bdc3387', 'bdc2780')\n",
      "('bdc2780', 'bdc29263')\n",
      "('bdc2780', 'bdc15802')\n",
      "('bdc2780', 'bdc6655')\n",
      "('bdc2780', 'bdc7948')\n",
      "('bdc2780', 'bdc28922')\n",
      "('bdc2780', 'bdc13411')\n",
      "('bdc2780', 'bdi4245355')\n",
      "('bdc2780', 'bdc16163')\n",
      "('bdc2780', 'bdc27284')\n",
      "('bdc2780', 'bdi5768790')\n",
      "('bdc2780', 'bdi4100583')\n",
      "('bdc2780', 'bdi5763491')\n",
      "('bdc2780', 'bdi6882533')\n",
      "('bdc2780', 'bdi4206555')\n"
     ]
    }
   ],
   "source": [
    "for k_p in neib_dict1:\n",
    "    if eid2 in k_p:\n",
    "        print k_p"
   ]
  },
  {
   "cell_type": "code",
   "execution_count": 10,
   "metadata": {
    "collapsed": true
   },
   "outputs": [],
   "source": [
    "ent_graph = cPickle.load(open(prefix + '../entity/ent-graph.pkl'))"
   ]
  },
  {
   "cell_type": "code",
   "execution_count": 42,
   "metadata": {
    "collapsed": true
   },
   "outputs": [],
   "source": [
    "s1 = list(ent_graph.neighbors(eid))\n",
    "s2 = list(ent_graph.neighbors(eid2))\n",
    "common = set.intersection(*map(set, [s1,s2]))\n",
    "if eid in s2 or eid2 in s1:\n",
    "    print 'niubi'"
   ]
  },
  {
   "cell_type": "code",
   "execution_count": 43,
   "metadata": {},
   "outputs": [
    {
     "name": "stdout",
     "output_type": "stream",
     "text": [
      "盲僧\n"
     ]
    }
   ],
   "source": [
    "for eid in common:\n",
    "    print id2ent[eid]"
   ]
  },
  {
   "cell_type": "code",
   "execution_count": 4,
   "metadata": {
    "collapsed": true
   },
   "outputs": [],
   "source": [
    "test_session_data = json.load(open(prefix + 'test_session.json'))\n",
    "(qid2eid,did2eid) = cPickle.load(open(prefix + 'test_data/qdid2eid-xlore-test.pkl'))\n",
    "qdid2text_dict = json.load(open(prefix + 'test_data/qdid2text_dict-test.json'))"
   ]
  },
  {
   "cell_type": "code",
   "execution_count": 5,
   "metadata": {
    "collapsed": true
   },
   "outputs": [],
   "source": [
    "#test_type_dict = cPickle.load(open(prefix + './test_type_dict.pkl'))\n",
    "query_level_dict = cPickle.load(open(prefix + 'query_level_dict200.pkl'))"
   ]
  },
  {
   "cell_type": "code",
   "execution_count": 17,
   "metadata": {},
   "outputs": [
    {
     "name": "stdout",
     "output_type": "stream",
     "text": [
      "defaultdict(<function <lambda> at 0x7fd65af5dde8>, {1: 258, 2: 195, 3: 261})\n"
     ]
    }
   ],
   "source": [
    "from collections import defaultdict\n",
    "\n",
    "stype_count = defaultdict(lambda:0)\n",
    "for sid,stypes in query_level_dict.iteritems():\n",
    "    for st in stypes:\n",
    "        stype_count[st] += 1\n",
    "\n",
    "print stype_count\n",
    "    "
   ]
  },
  {
   "cell_type": "code",
   "execution_count": 18,
   "metadata": {},
   "outputs": [
    {
     "name": "stdout",
     "output_type": "stream",
     "text": [
      "[[0.82105263 0.06315789 0.11578947]\n",
      " [0.125      0.75       0.125     ]\n",
      " [0.14444444 0.06666667 0.78888889]]\n"
     ]
    },
    {
     "data": {
      "image/png": "[encoded data removed]",
      "text/plain": [
       "<Figure size 432x288 with 2 Axes>"
      ]
     },
     "metadata": {
      "needs_background": "light"
     },
     "output_type": "display_data"
    }
   ],
   "source": [
    "import seaborn as sns\n",
    "import numpy as np\n",
    "transform_matrix = np.zeros((3,3))\n",
    "for sid,stypes in query_level_dict.iteritems():\n",
    "    for i in xrange(len(stypes)- 1):\n",
    "        x = stypes[i] - 1\n",
    "        y = stypes[i+1] - 1\n",
    "        transform_matrix[x,y] += 1\n",
    "\n",
    "for i in range(3):\n",
    "    row_sum = np.sum(transform_matrix[i])\n",
    "    transform_matrix[i] /= row_sum\n",
    "print transform_matrix\n",
    "labels = ['Navig','Informa','Transac']\n",
    "ax = sns.heatmap(transform_matrix,vmin=0, vmax=1,cmap=\"YlGnBu\",xticklabels=labels,yticklabels=labels)"
   ]
  },
  {
   "cell_type": "code",
   "execution_count": 13,
   "metadata": {},
   "outputs": [
    {
     "name": "stderr",
     "output_type": "stream",
     "text": [
      "100%|██████████| 1583/1583 [00:00<00:00, 269726.33it/s]"
     ]
    },
    {
     "name": "stdout",
     "output_type": "stream",
     "text": [
      "1 4.137566137566138\n",
      "2 3.318359375\n",
      "3 3.2510822510822512\n",
      "Ttest_indResult(statistic=6.520511809433229, pvalue=1.1743139644148238e-10)\n",
      "Ttest_indResult(statistic=7.962095133100028, pvalue=4.299564837820682e-15)\n",
      "Ttest_indResult(statistic=0.7114682743454018, pvalue=0.47693203499670855)\n"
     ]
    },
    {
     "name": "stderr",
     "output_type": "stream",
     "text": [
      "\n"
     ]
    }
   ],
   "source": [
    "\n",
    "import scipy.stats as stats\n",
    "session_length = {1:[],2:[],3:[]}\n",
    "\n",
    "for session in tqdm.tqdm(test_session_data):\n",
    "    sid = session['sid']\n",
    "    s_type = test_type_dict[sid]\n",
    "    \n",
    "    session_length[s_type].append(len(session['qids']))\n",
    "    \n",
    "for k,v in session_length.iteritems():\n",
    "    print k,np.mean(v)\n",
    "\n",
    "print stats.ttest_ind(session_length[1],session_length[2])\n",
    "print stats.ttest_ind(session_length[1],session_length[3])\n",
    "print stats.ttest_ind(session_length[2],session_length[3])"
   ]
  },
  {
   "cell_type": "code",
   "execution_count": 43,
   "metadata": {},
   "outputs": [
    {
     "name": "stderr",
     "output_type": "stream",
     "text": [
      "100%|██████████| 200/200 [00:00<00:00, 28591.03it/s]"
     ]
    },
    {
     "name": "stdout",
     "output_type": "stream",
     "text": [
      "1 query: 3.503876 entity: 2.631783\n",
      "2 query: 3.507692 entity: 2.471795\n",
      "3 query: 3.383142 entity: 2.632184\n"
     ]
    },
    {
     "name": "stderr",
     "output_type": "stream",
     "text": [
      "\n"
     ]
    }
   ],
   "source": [
    "word_per_query = {1:[],2:[],3:[]}\n",
    "entity_per_query = {1:[],2:[],3:[]}\n",
    "#print qdid2text_dict\n",
    "for session in tqdm.tqdm(test_session_data[:200]):\n",
    "    sid = session['sid']\n",
    "    #s_type = test_type_dict[sid]\n",
    "    s_types = query_level_dict[sid]\n",
    "    if len(s_types) != len(session['qids']):\n",
    "        print sid\n",
    "    for i,qid in enumerate(session['qids']):\n",
    "        s_type = s_types[i]\n",
    "        words_num = len(qdid2text_dict[qid].split(' '))\n",
    "        word_per_query[s_type].append(words_num)\n",
    "        entity_per_query[s_type].append(len(qid2eid[qid]))\n",
    "for k,v in word_per_query.iteritems():\n",
    "    print k,('query: %f' % np.mean(v)), ('entity: %f' % np.mean(entity_per_query[k]))"
   ]
  },
  {
   "cell_type": "code",
   "execution_count": 20,
   "metadata": {},
   "outputs": [
    {
     "name": "stderr",
     "output_type": "stream",
     "text": [
      "100%|██████████| 200/200 [00:00<00:00, 18855.47it/s]"
     ]
    },
    {
     "name": "stdout",
     "output_type": "stream",
     "text": [
      "1 0.9302325581395349\n",
      "2 1.4923076923076923\n",
      "3 1.2720306513409962\n"
     ]
    },
    {
     "name": "stderr",
     "output_type": "stream",
     "text": [
      "\n"
     ]
    }
   ],
   "source": [
    "click_per_query = {1:[],2:[],3:[]}\n",
    "for session in tqdm.tqdm(test_session_data[:200]):\n",
    "    sid = session['sid']\n",
    "    docs = session['docs']\n",
    "    qids = session['qids']\n",
    "    #s_type = test_type_dict[sid]\n",
    "    s_types = query_level_dict[sid]\n",
    "    for i,(qid,dids) in enumerate(zip(qids,docs)):\n",
    "        click_num = 0\n",
    "        s_type = s_types[i]\n",
    "        for pos,(did,click) in enumerate(dids):\n",
    "            click_num += int(click)\n",
    "        click_per_query[s_type].append(click_num)\n",
    "for k,v in click_per_query.iteritems():\n",
    "    print k,np.mean(v)"
   ]
  },
  {
   "cell_type": "code",
   "execution_count": 22,
   "metadata": {},
   "outputs": [
    {
     "name": "stderr",
     "output_type": "stream",
     "text": [
      "100%|██████████| 200/200 [00:00<00:00, 13552.09it/s]"
     ]
    },
    {
     "name": "stdout",
     "output_type": "stream",
     "text": [
      "1 1.978021978021978\n",
      "2 2.5051020408163267\n",
      "3 2.222689075630252\n"
     ]
    },
    {
     "name": "stderr",
     "output_type": "stream",
     "text": [
      "\n"
     ]
    }
   ],
   "source": [
    "click_position = {1:[],2:[],3:[]}\n",
    "for session in tqdm.tqdm(test_session_data[:200]):\n",
    "    sid = session['sid']\n",
    "    docs = session['docs']\n",
    "    qids = session['qids']\n",
    "    #s_type = test_type_dict[sid]\n",
    "    s_types = query_level_dict[sid]\n",
    "    for i,(qid,dids) in enumerate(zip(qids,docs)):\n",
    "        s_type = s_types[i]\n",
    "        for pos,(did,click) in enumerate(dids):\n",
    "            if int(click) != 0:\n",
    "                click_position[s_type].append(pos+1)\n",
    "\n",
    "for k,v in click_position.iteritems():\n",
    "    print k,np.mean(v)"
   ]
  },
  {
   "cell_type": "code",
   "execution_count": 33,
   "metadata": {},
   "outputs": [
    {
     "name": "stderr",
     "output_type": "stream",
     "text": [
      "100%|██████████| 1583/1583 [00:00<00:00, 73064.42it/s]"
     ]
    },
    {
     "name": "stdout",
     "output_type": "stream",
     "text": [
      "1 0.8920741989881956\n",
      "2 1.1524852569502948\n",
      "3 1.1993589743589743\n"
     ]
    },
    {
     "name": "stderr",
     "output_type": "stream",
     "text": [
      "\n"
     ]
    }
   ],
   "source": [
    "delta_entity_per_query = {1:[],2:[],3:[]}\n",
    "def get_new_entity(ent1,ent2):\n",
    "    num = 0\n",
    "    for e in ent2:\n",
    "        if e not in ent1:\n",
    "            num += 1\n",
    "    return num\n",
    "for session in tqdm.tqdm(test_session_data):\n",
    "    sid = session['sid']\n",
    "    qids = session['qids']\n",
    "    s_type = test_type_dict[sid]\n",
    "    for i,qid in enumerate(qids[:-1]):\n",
    "        delta_entity_per_query[s_type].append(get_new_entity(qid2eid[qids[i]],qid2eid[qids[i+1]]))\n",
    "\n",
    "for k,v in delta_entity_per_query.iteritems():\n",
    "    print k,np.mean(v)"
   ]
  },
  {
   "cell_type": "code",
   "execution_count": 29,
   "metadata": {},
   "outputs": [
    {
     "name": "stderr",
     "output_type": "stream",
     "text": [
      "  0%|          | 0/1583 [00:00<?, ?it/s]\n"
     ]
    },
    {
     "ename": "NameError",
     "evalue": "name 'test_type_dict' is not defined",
     "output_type": "error",
     "traceback": [
      "\u001b[0;31m---------------------------------------------------------------------------\u001b[0m",
      "\u001b[0;31mNameError\u001b[0m                                 Traceback (most recent call last)",
      "\u001b[0;32m<ipython-input-29-74ea52e58c63>\u001b[0m in \u001b[0;36m<module>\u001b[0;34m()\u001b[0m\n\u001b[1;32m     10\u001b[0m     \u001b[0msid\u001b[0m \u001b[0;34m=\u001b[0m \u001b[0msession\u001b[0m\u001b[0;34m[\u001b[0m\u001b[0;34m'sid'\u001b[0m\u001b[0;34m]\u001b[0m\u001b[0;34m\u001b[0m\u001b[0m\n\u001b[1;32m     11\u001b[0m     \u001b[0mqids\u001b[0m \u001b[0;34m=\u001b[0m \u001b[0msession\u001b[0m\u001b[0;34m[\u001b[0m\u001b[0;34m'qids'\u001b[0m\u001b[0;34m]\u001b[0m\u001b[0;34m\u001b[0m\u001b[0m\n\u001b[0;32m---> 12\u001b[0;31m     \u001b[0ms_type\u001b[0m \u001b[0;34m=\u001b[0m \u001b[0mtest_type_dict\u001b[0m\u001b[0;34m[\u001b[0m\u001b[0msid\u001b[0m\u001b[0;34m]\u001b[0m\u001b[0;34m\u001b[0m\u001b[0m\n\u001b[0m\u001b[1;32m     13\u001b[0m     \u001b[0;32mfor\u001b[0m \u001b[0mi\u001b[0m\u001b[0;34m,\u001b[0m\u001b[0mqid\u001b[0m \u001b[0;32min\u001b[0m \u001b[0menumerate\u001b[0m\u001b[0;34m(\u001b[0m\u001b[0mqids\u001b[0m\u001b[0;34m[\u001b[0m\u001b[0;34m:\u001b[0m\u001b[0;34m-\u001b[0m\u001b[0;36m1\u001b[0m\u001b[0;34m]\u001b[0m\u001b[0;34m)\u001b[0m\u001b[0;34m:\u001b[0m\u001b[0;34m\u001b[0m\u001b[0m\n\u001b[1;32m     14\u001b[0m         \u001b[0mwithcommon_percent\u001b[0m\u001b[0;34m[\u001b[0m\u001b[0ms_type\u001b[0m\u001b[0;34m]\u001b[0m\u001b[0;34m.\u001b[0m\u001b[0mappend\u001b[0m\u001b[0;34m(\u001b[0m\u001b[0mcheck_common\u001b[0m\u001b[0;34m(\u001b[0m\u001b[0mqid2eid\u001b[0m\u001b[0;34m[\u001b[0m\u001b[0mqids\u001b[0m\u001b[0;34m[\u001b[0m\u001b[0mi\u001b[0m\u001b[0;34m]\u001b[0m\u001b[0;34m]\u001b[0m\u001b[0;34m,\u001b[0m\u001b[0mqid2eid\u001b[0m\u001b[0;34m[\u001b[0m\u001b[0mqids\u001b[0m\u001b[0;34m[\u001b[0m\u001b[0mi\u001b[0m\u001b[0;34m+\u001b[0m\u001b[0;36m1\u001b[0m\u001b[0;34m]\u001b[0m\u001b[0;34m]\u001b[0m\u001b[0;34m)\u001b[0m\u001b[0;34m)\u001b[0m\u001b[0;34m\u001b[0m\u001b[0m\n",
      "\u001b[0;31mNameError\u001b[0m: name 'test_type_dict' is not defined"
     ]
    }
   ],
   "source": [
    "withcommon_percent = {1:[],2:[],3:[]}\n",
    "def check_common(ent1,ent2):\n",
    "    num = 0\n",
    "    for e in ent2:\n",
    "        if e in ent1:\n",
    "            num += 1\n",
    "    return 1 if num > 0 else 0\n",
    "\n",
    "for session in tqdm.tqdm(test_session_data):\n",
    "    sid = session['sid']\n",
    "    qids = session['qids']\n",
    "    s_type = test_type_dict[sid]\n",
    "    for i,qid in enumerate(qids[:-1]):\n",
    "        withcommon_percent[s_type].append(check_common(qid2eid[qids[i]],qid2eid[qids[i+1]]))\n",
    "\n",
    "for k,v in withcommon_percent.iteritems():\n",
    "    print k,np.mean(v)"
   ]
  },
  {
   "cell_type": "code",
   "execution_count": 15,
   "metadata": {},
   "outputs": [
    {
     "name": "stderr",
     "output_type": "stream",
     "text": [
      "100%|██████████| 200/200 [00:00<00:00, 7693.50it/s]"
     ]
    },
    {
     "name": "stdout",
     "output_type": "stream",
     "text": [
      "1 0.7398843930635838\n",
      "2 0.8134715025906736\n",
      "3 0.7081545064377682\n"
     ]
    },
    {
     "name": "stderr",
     "output_type": "stream",
     "text": [
      "\n"
     ]
    }
   ],
   "source": [
    "def check_common(ent1,ent2):\n",
    "    num = 0\n",
    "    for e in ent2:\n",
    "        if e in ent1:\n",
    "            return 1\n",
    "    return 0\n",
    "\n",
    "def check_common(ent1s,ent2s):\n",
    "    has_same = 0\n",
    "    for e1 in ent1s:\n",
    "        for e2 in ent2s:\n",
    "            if e1 == e2:\n",
    "                #continue\n",
    "                has_same = 1\n",
    "    return has_same\n",
    "\n",
    "withcommon_percent_click = {1:[],2:[],3:[]}\n",
    "for session in tqdm.tqdm(test_session_data[:200]):\n",
    "    sid = session['sid']\n",
    "    docs = session['docs']\n",
    "    qids = session['qids']\n",
    "    \n",
    "    #s_type = test_type_dict[sid]\n",
    "    if sid in query_level_dict:\n",
    "        s_types = query_level_dict[sid]\n",
    "\n",
    "    for i,(qid,dids) in enumerate(zip(qids,docs)):\n",
    "        click_num = 0\n",
    "        s_type = s_types[i]\n",
    "        query_ents = qid2eid[qid]\n",
    "        if len(query_ents) == 0:\n",
    "            continue\n",
    "        for pos,(did,click) in enumerate(dids):\n",
    "            did_entlist = did2eid[did]\n",
    "            if len(did_entlist) == 0:\n",
    "                continue\n",
    "            if int(click) != 0:\n",
    "                withcommon_percent_click[s_type].append(check_common(query_ents,did_entlist))\n",
    "\n",
    "for k,v in withcommon_percent_click.iteritems():\n",
    "    #print v\n",
    "    print k,np.mean(v)\n",
    "                "
   ]
  },
  {
   "cell_type": "code",
   "execution_count": 9,
   "metadata": {},
   "outputs": [
    {
     "name": "stderr",
     "output_type": "stream",
     "text": [
      "2904it [00:00, 29039.68it/s]"
     ]
    },
    {
     "name": "stdout",
     "output_type": "stream",
     "text": [
      "run\n"
     ]
    },
    {
     "name": "stderr",
     "output_type": "stream",
     "text": [
      "135814it [00:01, 115261.98it/s]\n",
      "5765it [00:00, 57638.51it/s]"
     ]
    },
    {
     "name": "stdout",
     "output_type": "stream",
     "text": [
      "run\n"
     ]
    },
    {
     "name": "stderr",
     "output_type": "stream",
     "text": [
      "42119584it [04:03, 172732.36it/s]\n"
     ]
    }
   ],
   "source": [
    "def loadNeigborRelation(step):\n",
    "    print 'run'\n",
    "    addr = '/ivi/ilps/personal/xli/knowledge_intent/data/neib_%d_relation.txt' % step\n",
    "    neib_dict = {};\n",
    "    for line in tqdm.tqdm(open(addr)):\n",
    "        elements = line.strip().split('\\t')\n",
    "        relations = map(int,elements[-1].split('#'))\n",
    "        neib_dict[(elements[0],elements[1])] = (int(elements[2]),relations)\n",
    "        #break\n",
    "    return neib_dict\n",
    "\n",
    "relation_dict1 = loadNeigborRelation(1)\n",
    "relation_dict2 = loadNeigborRelation(2)"
   ]
  },
  {
   "cell_type": "code",
   "execution_count": 10,
   "metadata": {
    "collapsed": true
   },
   "outputs": [],
   "source": [
    "def gethops(ent1s,ent2s):\n",
    "    hops = []\n",
    "    derivation = 0\n",
    "    equal = 0\n",
    "    has_same = 0\n",
    "    for e1 in ent1s:\n",
    "        for e2 in ent2s:\n",
    "            if e1 == e2:\n",
    "                #continue\n",
    "                has_same = 1\n",
    "                hops.append(0)\n",
    "            else:\n",
    "                if (e1,e2) in relation_dict1 or (e2,e1) in relation_dict1:\n",
    "                    ent1 = e1;ent2 = e2\n",
    "                    if (e1,e2) not in relation_dict1:\n",
    "                        ent2 = e1;ent1 = e2s\n",
    "                        \n",
    "                    hops.append(1)\n",
    "                    for r in relation_dict1[(ent1,ent2)][1]:\n",
    "                        #print 'runhere'\n",
    "                        if r == 1 or r == 2:\n",
    "                            derivation += 1\n",
    "                        else:\n",
    "                            equal += 1\n",
    "                elif (e1,e2) in relation_dict2 or (e2,e1) in relation_dict2:\n",
    "                    ent1 = e1;ent2 = e2\n",
    "                    if (e1,e2) not in relation_dict2:\n",
    "                        ent2 = e1;ent1 = e2s\n",
    "                        \n",
    "                    hops.append(2)\n",
    "                    for r in relation_dict2[(ent1,ent2)][1]:\n",
    "                        if r == 1 or r == 2:\n",
    "                            derivation += 1\n",
    "                        else:\n",
    "                            equal += 1\n",
    "                #else:\n",
    "                #    hops.append(0)\n",
    "    total_r = derivation + equal\n",
    "    if len(hops) == 0:\n",
    "        avg_hops = 0\n",
    "    else:\n",
    "        avg_hops = np.mean(hops)\n",
    "    if total_r == 0:\n",
    "        return avg_hops,0,0,has_same\n",
    "    return avg_hops,float(derivation)/total_r, float(equal)/total_r,has_same\n",
    "                    "
   ]
  },
  {
   "cell_type": "code",
   "execution_count": 11,
   "metadata": {},
   "outputs": [
    {
     "name": "stderr",
     "output_type": "stream",
     "text": [
      "  0%|          | 0/1583 [00:00<?, ?it/s]\n"
     ]
    },
    {
     "ename": "NameError",
     "evalue": "name 'test_type_dict' is not defined",
     "output_type": "error",
     "traceback": [
      "\u001b[0;31m---------------------------------------------------------------------------\u001b[0m",
      "\u001b[0;31mNameError\u001b[0m                                 Traceback (most recent call last)",
      "\u001b[0;32m<ipython-input-11-086e6abe0ea0>\u001b[0m in \u001b[0;36m<module>\u001b[0;34m()\u001b[0m\n\u001b[1;32m      5\u001b[0m     \u001b[0mqids\u001b[0m \u001b[0;34m=\u001b[0m \u001b[0msession\u001b[0m\u001b[0;34m[\u001b[0m\u001b[0;34m'qids'\u001b[0m\u001b[0;34m]\u001b[0m\u001b[0;34m\u001b[0m\u001b[0m\n\u001b[1;32m      6\u001b[0m     \u001b[0mdocs\u001b[0m \u001b[0;34m=\u001b[0m \u001b[0msession\u001b[0m\u001b[0;34m[\u001b[0m\u001b[0;34m'docs'\u001b[0m\u001b[0;34m]\u001b[0m\u001b[0;34m\u001b[0m\u001b[0m\n\u001b[0;32m----> 7\u001b[0;31m     \u001b[0ms_type\u001b[0m \u001b[0;34m=\u001b[0m \u001b[0mtest_type_dict\u001b[0m\u001b[0;34m[\u001b[0m\u001b[0msid\u001b[0m\u001b[0;34m]\u001b[0m\u001b[0;34m\u001b[0m\u001b[0m\n\u001b[0m\u001b[1;32m      8\u001b[0m \u001b[0;34m\u001b[0m\u001b[0m\n\u001b[1;32m      9\u001b[0m     \u001b[0;32mfor\u001b[0m \u001b[0mi\u001b[0m\u001b[0;34m,\u001b[0m\u001b[0mqid\u001b[0m \u001b[0;32min\u001b[0m \u001b[0menumerate\u001b[0m\u001b[0;34m(\u001b[0m\u001b[0mqids\u001b[0m\u001b[0;34m[\u001b[0m\u001b[0;34m:\u001b[0m\u001b[0;34m-\u001b[0m\u001b[0;36m1\u001b[0m\u001b[0;34m]\u001b[0m\u001b[0;34m)\u001b[0m\u001b[0;34m:\u001b[0m\u001b[0;34m\u001b[0m\u001b[0m\n",
      "\u001b[0;31mNameError\u001b[0m: name 'test_type_dict' is not defined"
     ]
    }
   ],
   "source": [
    "hops_query = {1:[],2:[],3:[]}\n",
    "derivation_query = {1:[],2:[],3:[]}\n",
    "for session in tqdm.tqdm(test_session_data):\n",
    "    sid = session['sid']\n",
    "    qids = session['qids']\n",
    "    docs = session['docs']\n",
    "    s_type = test_type_dict[sid]\n",
    "                \n",
    "    for i,qid in enumerate(qids[:-1]):\n",
    "        hops,d,_,_ = gethops(qid2eid[qids[i]],qid2eid[qids[i+1]])\n",
    "        \n",
    "        if hops > 0:\n",
    "            hops_query[s_type].append(hops)\n",
    "            derivation_query[s_type].append(d)\n",
    "\n",
    "for k,v in hops_query.iteritems():\n",
    "    print k,('avg hops: %f' % np.mean(v)),('derivation: %f' % np.mean(derivation_query[k]))"
   ]
  },
  {
   "cell_type": "code",
   "execution_count": 16,
   "metadata": {},
   "outputs": [
    {
     "name": "stderr",
     "output_type": "stream",
     "text": [
      "100%|██████████| 200/200 [00:00<00:00, 5313.79it/s]"
     ]
    },
    {
     "name": "stdout",
     "output_type": "stream",
     "text": [
      "1 avg hops: 0.795665 derivation: 0.973457\n",
      "2 avg hops: 0.349847 derivation: 0.904948\n",
      "3 avg hops: 0.540389 derivation: 0.945980\n"
     ]
    },
    {
     "name": "stderr",
     "output_type": "stream",
     "text": [
      "\n"
     ]
    }
   ],
   "source": [
    "hops_click = {1:[],2:[],3:[]}\n",
    "derivation_click = {1:[],2:[],3:[]}\n",
    "for session in tqdm.tqdm(test_session_data[:200]):\n",
    "    sid = session['sid']\n",
    "    qids = session['qids']\n",
    "    #s_type = test_type_dict[sid]\n",
    "    docs = session['docs']\n",
    "    s_types = query_level_dict[sid]\n",
    "    for i,(qid,dids) in enumerate(zip(qids,docs)):\n",
    "        click_num = 0\n",
    "        s_type = s_types[i]\n",
    "        query_ents = qid2eid[qid]\n",
    "        if len(query_ents) == 0:\n",
    "            continue           \n",
    "                \n",
    "        for pos,(did,click) in enumerate(dids):\n",
    "            if int(click) != 0:\n",
    "                did_entlist = did2eid[did]\n",
    "                if len(did_entlist) == 0:\n",
    "                    continue\n",
    "                \n",
    "                hops,d,_,_ = gethops(query_ents,did2eid[did])\n",
    "                hops_click[s_type].append(hops)\n",
    "                if hops > 0:\n",
    "                    \n",
    "                    derivation_click[s_type].append(d)\n",
    "                \n",
    "        \n",
    "\n",
    "for k,v in hops_click.iteritems():\n",
    "    print k,('avg hops: %f' % np.mean(v)),('derivation: %f' % np.mean(derivation_click[k]))"
   ]
  },
  {
   "cell_type": "code",
   "execution_count": 17,
   "metadata": {
    "collapsed": true
   },
   "outputs": [],
   "source": [
    "def cal_pr(ent1s,ent2s,step):\n",
    "    ent1s = list(set(ent1s))\n",
    "    ent2s = list(set(ent2s))\n",
    "    if step == 0:\n",
    "        common = float(len(set.intersection(*map(set, [ent1s,ent2s]))))\n",
    "        recall = common / (len(ent2s) + 1)\n",
    "    else:\n",
    "        p_count = 0;r_total = len(ent1s)\n",
    "        for ent in ent1s:\n",
    "            if ent in ent2s:\n",
    "                p_count += 1\n",
    "                continue\n",
    "            for d_ent in ent2s:\n",
    "                if step == 1:\n",
    "                    if (ent,d_ent) in relation_dict1 or (d_ent,ent) in relation_dict1:\n",
    "                        p_count += 1\n",
    "                if step == 2:\n",
    "                    if (ent,d_ent) in relation_dict1 or (d_ent,ent) in relation_dict1 or\\\n",
    "                            (ent,d_ent) in relation_dict2 or (d_ent,ent) in relation_dict2:\n",
    "                        p_count += 1\n",
    "                    \n",
    "\n",
    "        recall = float(p_count) / (len(ent2s) + 1)\n",
    "        #prec = float(p_count) / (r_total + 1)\n",
    "    return recall"
   ]
  },
  {
   "cell_type": "code",
   "execution_count": 20,
   "metadata": {},
   "outputs": [
    {
     "name": "stderr",
     "output_type": "stream",
     "text": [
      "100%|██████████| 200/200 [00:00<00:00, 4411.41it/s]"
     ]
    },
    {
     "name": "stdout",
     "output_type": "stream",
     "text": [
      "Step:  0\n",
      "Click recall:  0.3008670520231214\n",
      "Click recall:  0.27702936096718483\n",
      "Click recall:  0.2701716738197425\n"
     ]
    },
    {
     "name": "stderr",
     "output_type": "stream",
     "text": [
      "\n"
     ]
    }
   ],
   "source": [
    "def click_calculation(step):\n",
    "    click_ratio = [[],[],[]]\n",
    "    for session in tqdm.tqdm(test_session_data[:200]):\n",
    "        sid = session['sid']\n",
    "        qids = session['qids']\n",
    "        docs = session['docs']\n",
    "        s_types = query_level_dict[sid]\n",
    "        \n",
    "        for i,(qid,dids) in enumerate(zip(qids,docs)):\n",
    "            qid_entlist = qid2eid[qid]\n",
    "            q_size = len(qid_entlist)\n",
    "            if len(qid_entlist) == 0:\n",
    "                continue  \n",
    "            #print s_types, sid\n",
    "            s_type = s_types[i]\n",
    "            for pos,(did,click) in enumerate(dids):\n",
    "                did_entlist = did2eid[did]\n",
    "                if len(did_entlist) == 0:\n",
    "                    continue \n",
    "                r = cal_pr(qid_entlist,did_entlist,step)\n",
    "                if click != 0:\n",
    "                    click_ratio[s_type-1].append(r)\n",
    "\n",
    "    \n",
    "    print 'Step: ', step\n",
    "    results = []\n",
    "    for i in range(3):\n",
    "        results.append(np.mean(click_ratio[i]) )\n",
    "        print 'Click recall: ', np.mean(click_ratio[i]) \n",
    "    return click_ratio,results\n",
    "\n",
    "click_ratio0,r0 = click_calculation(0)"
   ]
  },
  {
   "cell_type": "code",
   "execution_count": 21,
   "metadata": {},
   "outputs": [
    {
     "name": "stderr",
     "output_type": "stream",
     "text": [
      "100%|██████████| 200/200 [00:00<00:00, 3858.18it/s]\n",
      "100%|██████████| 200/200 [00:00<00:00, 2015.50it/s]"
     ]
    },
    {
     "name": "stdout",
     "output_type": "stream",
     "text": [
      "Step:  1\n",
      "Click recall:  0.30953757225433526\n",
      "Click recall:  0.28134715025906737\n",
      "Click recall:  0.2873390557939914\n",
      "Step:  2\n",
      "Click recall:  0.4032755298651252\n",
      "Click recall:  0.3207253886010363\n",
      "Click recall:  0.38605150214592276\n"
     ]
    },
    {
     "name": "stderr",
     "output_type": "stream",
     "text": [
      "\n"
     ]
    }
   ],
   "source": [
    "click_ratio1,r1 = click_calculation(1)\n",
    "click_ratio2,r2 = click_calculation(2)"
   ]
  },
  {
   "cell_type": "code",
   "execution_count": null,
   "metadata": {
    "collapsed": true
   },
   "outputs": [],
   "source": [
    "import pandas as pd\n",
    "import seaborn as sns\n",
    "import matplotlib.pyplot as plt\n",
    "plt.rcParams['figure.dpi'] = 150 #分辨率\n",
    "df = pd.DataFrame({\"Hops\": [0,1,2],\n",
    "                   \"Navigational\":[r0[0],r1[0],r2[0]],\n",
    "                   \"Informational\": [r0[1],r1[1],r2[1]], \n",
    "                   \"Transactional\": [r0[2],r1[2],r2[2]]})\n",
    "print df\n",
    "\n",
    "fig, ax = plt.subplots()\n",
    "tidy = df.melt(id_vars='Hops').rename(columns=str.title)\n",
    "\n",
    "sns.set(style=\"white\")\n",
    "ax.set(ylim=(0, 0.5))\n",
    "g = sns.barplot(x='Hops', y='Value', hue='Variable', data=tidy, ax=ax,\n",
    "                palette=\"muted\",hue_order=['Navigational','Informational','Transactional'])\n",
    "sns.despine(fig)\n",
    "\n",
    "\n",
    "#for index, row in df.iterrows():\n",
    "#    print index,row\n",
    "#    #g.text(row.name,row.Value, round(row.total_bill,2), color='black', ha=\"center\")\n",
    "for p in ax.patches:\n",
    "\tax.annotate(\"%.4f\" % p.get_height(), (p.get_x() + p.get_width() / 2., p.get_height()-0.01),\n",
    "\t\tha='center', va='center', fontsize=9, color='black', xytext=(0, 20),\n",
    "\t\ttextcoords='offset points')\n",
    "    \n",
    "# Create a second y-axis with the scaled ticks\n",
    "ax.legend().set_title('')\n",
    "ax.set_ylabel('Ratio')\n",
    "plt.show()"
   ]
  },
  {
   "cell_type": "code",
   "execution_count": 7,
   "metadata": {},
   "outputs": [
    {
     "name": "stderr",
     "output_type": "stream",
     "text": [
      "100%|██████████| 200/200 [00:00<00:00, 10985.32it/s]"
     ]
    },
    {
     "name": "stdout",
     "output_type": "stream",
     "text": [
      "1 0.5358381502890173\n",
      "2 0.6385146804835923\n",
      "3 0.49148783977110155\n"
     ]
    },
    {
     "name": "stderr",
     "output_type": "stream",
     "text": [
      "\n"
     ]
    }
   ],
   "source": [
    "\n",
    "def check_common(ent1s,ent2s):\n",
    "    common = float(len(set.intersection(*map(set, [ent1s,ent2s]))))\n",
    "    return float(common) / len(ent1s)\n",
    "\n",
    "query_percent_click = {1:[],2:[],3:[]}\n",
    "\n",
    "for session in tqdm.tqdm(test_session_data[:200]):\n",
    "    sid = session['sid']\n",
    "    qids = session['qids']\n",
    "    docs = session['docs']\n",
    "    #s_type = test_type_dict[sid]\n",
    "    \n",
    "    s_types = query_level_dict[sid]\n",
    "    for i,(qid,dids) in enumerate(zip(qids,docs)):\n",
    "        click_num = 0\n",
    "        s_type = s_types[i]\n",
    "        qid_entlist = qid2eid[qid]\n",
    "        \n",
    "        if len(qid_entlist) == 0:\n",
    "            continue           \n",
    "                \n",
    "        for pos,(did,click) in enumerate(dids):\n",
    "            did_entlist = did2eid[did]\n",
    "            if int(click) != 0:\n",
    "                if len(did_entlist) == 0:\n",
    "                    continue\n",
    "                percent = check_common(qid_entlist,did_entlist)\n",
    "                query_percent_click[s_type].append(percent)\n",
    "for k,v in query_percent_click.iteritems():\n",
    "    print k,np.mean(v)"
   ]
  },
  {
   "cell_type": "code",
   "execution_count": null,
   "metadata": {
    "collapsed": true
   },
   "outputs": [],
   "source": []
  }
 ],
 "metadata": {
  "kernelspec": {
   "display_name": "Python 3",
   "language": "python",
   "name": "python3"
  },
  "language_info": {
   "codemirror_mode": {
    "name": "ipython",
    "version": 3
   },
   "file_extension": ".py",
   "mimetype": "text/x-python",
   "name": "python",
   "nbconvert_exporter": "python",
   "pygments_lexer": "ipython3",
   "version": "3.6.2"
  }
 },
 "nbformat": 4,
 "nbformat_minor": 2
}
